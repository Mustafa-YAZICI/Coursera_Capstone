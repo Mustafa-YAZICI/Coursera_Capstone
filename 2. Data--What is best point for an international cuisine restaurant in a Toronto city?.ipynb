{
 "cells": [
  {
   "cell_type": "markdown",
   "metadata": {},
   "source": [
    "# 2. Data \n",
    "\n",
    "I will extract the name of the neighborhoods of Toronto from the following link in Wikipedia:\n",
    "'https://en.wikipedia.org/wiki/List_of_postal_codes_of_Canada:_M'\n",
    "\n",
    "\n",
    "\n",
    "I will help to eliminate bad choice areas for sellecting the most appropriate restaurant for client.\n",
    "\n",
    "\n",
    "After that, I will use Foursquare API to get the information about the restaurants.The informations get extracted from the following link:\n",
    "'https://api.foursquare.com/v2/venues/explore?&client_id={}&client_secret={}&v={}&ll={},{}&radius={}&limit={}'.format(\n",
    "            \n",
    "In accordance with the acceptance_1 using the restaurant coordinates, I will find the places where the customers are most intense. I will use cluster_std = 0.004 in the make_blobs method to find them.\n",
    "\n",
    "\n",
    "I will find the most suitable region with the K-means-clustering method by using the places where the customers are the most crowded. I will find k in the K-means-clustering method that I will use here with estimate_bandwidth.\n",
    "\n",
    "\n",
    "I will apply the K-Means Clustering method again in this region and find the center of this place. so I will find the best location of the best region.\n",
    "\n",
    "\n",
    "\n"
   ]
  },
  {
   "cell_type": "code",
   "execution_count": null,
   "metadata": {},
   "outputs": [],
   "source": []
  }
 ],
 "metadata": {
  "kernelspec": {
   "display_name": "Python 3",
   "language": "python",
   "name": "python3"
  },
  "language_info": {
   "codemirror_mode": {
    "name": "ipython",
    "version": 3
   },
   "file_extension": ".py",
   "mimetype": "text/x-python",
   "name": "python",
   "nbconvert_exporter": "python",
   "pygments_lexer": "ipython3",
   "version": "3.7.4"
  }
 },
 "nbformat": 4,
 "nbformat_minor": 2
}
