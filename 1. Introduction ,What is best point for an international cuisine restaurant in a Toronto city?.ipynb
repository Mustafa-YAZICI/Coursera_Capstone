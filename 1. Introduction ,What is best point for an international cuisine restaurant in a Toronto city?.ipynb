{
 "cells": [
  {
   "cell_type": "markdown",
   "metadata": {},
   "source": [
    "# 1. Introduction \n",
    "\n",
    "This report can help those who are planning to start a new business such as an international cuisine restaurant in Toronto city and need to find the best location for their shop.\n",
    "\n",
    "\n",
    "\n",
    "## 1.1 Background\n",
    "\n",
    "The number of population increases due to newborns and migration. Therefore demands are increasing in every areas.Such as demands of restaurants.\n",
    "\n",
    "In addition, people's preferences and needs change day by day. For this reason, new shopping malls, shops, restaurants etc. are set up every day all over the world.\n",
    "\n",
    "The population of Toronto is increasing. New restaurants are needed in this city. There are also different restaurants, which include different cuisine in Toronto.\n",
    "\n",
    "\n",
    "Especially the central districts of the Toronto are becoming more and more become a shining star.\n",
    "\n",
    "Since Toronto is a very important place, it attracts attention from very famous brands. Many famous brands want to be in Toronto. The entrepreneurs want to take advantage by having restaurants in the central of Toronto.\n",
    "\n",
    "\n",
    "## 1.2 Business Problem\n",
    "\n",
    "Unfortunately, it is not possible to access all kinds of data. Even if it is reached, it may take years to make sense of them with today's technology. therefore, it is necessary to collect the important data and make realistic assumptions when necessary.\n",
    "\n",
    "Acceptances:\n",
    "\n",
    "1. Restaurant customers are located around the available restaurants. And it is appropriate to specify these clients in the make_blobs method with cluster_std = 0.003.\n",
    "\n",
    "2. Since it covers the world cuisines, it aspires to the customers of every available  restaurant.\n",
    "\n",
    "3. Since the company wanted to open a place in the center, the information of the restaurants close to the center was used.\n",
    "\n",
    "4. It is accepted that every restaurant has registered to the site where the data is received.\n",
    "\n",
    "\n",
    "Since the restaurant is a world brand, it covers the world food and is a competitive company, it will increase the probability of success, rather than escaping from the center. Therefore, I need to find where the customer cluster is most concentrated.\n",
    "\n",
    "The problem is :If the client want to open an international luxury cuisine restaurant in Toronto city, which point is the best option to open the restaurant?\n",
    "\n",
    "\n",
    "## 1.3 Interest\n",
    "\n",
    "Selecting the right location for a business is one of the first and very important decisions in running a business.\n",
    "\n",
    "This report can help those who are planning to start a new business such as an international luxury cuisine restaurant in Toronto city and need to find the best location for their shop.\n",
    "\n",
    "A world brand restaurant chain, which can better understand people's new wishes, is innovative, contains many world cuisines and can attract customers from existing restaurants, will want to make a place in Toronto. And they will want to know where the most suitable place is for this place. The customer will look for a location with the highest potential.\n",
    "\n",
    "The company concerned is a company that wants to appeal to a large group of customers in the center, not to a small group of customers.\n",
    "\n"
   ]
  }
 ],
 "metadata": {
  "kernelspec": {
   "display_name": "Python 3",
   "language": "python",
   "name": "python3"
  },
  "language_info": {
   "codemirror_mode": {
    "name": "ipython",
    "version": 3
   },
   "file_extension": ".py",
   "mimetype": "text/x-python",
   "name": "python",
   "nbconvert_exporter": "python",
   "pygments_lexer": "ipython3",
   "version": "3.7.4"
  }
 },
 "nbformat": 4,
 "nbformat_minor": 2
}
